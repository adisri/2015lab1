{
 "cells": [
  {
   "cell_type": "code",
   "execution_count": 1,
   "metadata": {
    "collapsed": false
   },
   "outputs": [
    {
     "name": "stdout",
     "output_type": "stream",
     "text": [
      "Collecting BeautifulSoup\n",
      "  Downloading BeautifulSoup-3.2.1.tar.gz\n",
      "Collecting seaborn\n",
      "  Downloading seaborn-0.7.0.tar.gz (154kB)\n",
      "\u001b[K    100% |████████████████████████████████| 155kB 1.3MB/s \n",
      "\u001b[?25hCollecting pyquery\n",
      "  Downloading pyquery-1.2.11-py2-none-any.whl\n",
      "Collecting cssselect>0.7.9 (from pyquery)\n",
      "  Downloading cssselect-0.9.1.tar.gz\n",
      "Requirement already satisfied (use --upgrade to upgrade): lxml>=2.1 in /anaconda/lib/python2.7/site-packages (from pyquery)\n",
      "Building wheels for collected packages: BeautifulSoup, seaborn, cssselect\n",
      "  Running setup.py bdist_wheel for BeautifulSoup ... \u001b[?25l-\b \bdone\n",
      "\u001b[?25h  Stored in directory: /Users/adityasrinivasan/Library/Caches/pip/wheels/0b/ca/15/397d8ca872cdde7f65c19b5cb26a67d14fd7ecdf13741b135a\n",
      "  Running setup.py bdist_wheel for seaborn ... \u001b[?25l-\b \bdone\n",
      "\u001b[?25h  Stored in directory: /Users/adityasrinivasan/Library/Caches/pip/wheels/83/56/50/6dc42e822bb1b1aad5e8f2927b1c932dc89ee4e0b15dac98c6\n",
      "  Running setup.py bdist_wheel for cssselect ... \u001b[?25l-\b \bdone\n",
      "\u001b[?25h  Stored in directory: /Users/adityasrinivasan/Library/Caches/pip/wheels/c6/0e/79/ae69bf7b31029e0f0bc5b8306547f94ec3926b7dbb8452b5ea\n",
      "Successfully built BeautifulSoup seaborn cssselect\n",
      "Installing collected packages: BeautifulSoup, seaborn, cssselect, pyquery\n",
      "Successfully installed BeautifulSoup-3.2.1 cssselect-0.9.1 pyquery-1.2.11 seaborn-0.7.0\n",
      "\u001b[33mYou are using pip version 8.0.2, however version 8.1.1 is available.\n",
      "You should consider upgrading via the 'pip install --upgrade pip' command.\u001b[0m\n"
     ]
    }
   ],
   "source": [
    "!pip install BeautifulSoup seaborn pyquery"
   ]
  },
  {
   "cell_type": "code",
   "execution_count": null,
   "metadata": {
    "collapsed": true
   },
   "outputs": [],
   "source": []
  }
 ],
 "metadata": {
  "kernelspec": {
   "display_name": "Python 2",
   "language": "python",
   "name": "python2"
  },
  "language_info": {
   "codemirror_mode": {
    "name": "ipython",
    "version": 2
   },
   "file_extension": ".py",
   "mimetype": "text/x-python",
   "name": "python",
   "nbconvert_exporter": "python",
   "pygments_lexer": "ipython2",
   "version": "2.7.11"
  }
 },
 "nbformat": 4,
 "nbformat_minor": 0
}
